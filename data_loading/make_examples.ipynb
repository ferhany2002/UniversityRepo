{
 "cells": [
  {
   "cell_type": "code",
   "execution_count": 5,
   "metadata": {
    "ExecuteTime": {
     "end_time": "2023-06-06T09:48:37.003019800Z",
     "start_time": "2023-06-06T09:48:36.333299300Z"
    }
   },
   "outputs": [],
   "source": [
    "import os\n",
    "import pickle\n",
    "from lared_dataset.data_loading.utils import (\n",
    "    Maker,\n",
    "    reset_examples_ids,\n",
    "    write_all_example_videos)\n",
    "\n",
    "from lared_dataset.constants import (\n",
    "    processed_pose_path, \n",
    "    processed_videos_path,\n",
    "    processed_accel_path,\n",
    "    vad_path,\n",
    "    examples_path)\n",
    "from lared_dataset.preprocess.pose.plotting import PosePlotter\n",
    "from lared_dataset.data_loading.utils import get_track_rectangle, tlwh_to_tlbr, enlarge_rectangle"
   ]
  },
  {
   "cell_type": "code",
   "execution_count": 6,
   "metadata": {
    "ExecuteTime": {
     "end_time": "2023-06-06T09:48:41.451452800Z",
     "start_time": "2023-06-06T09:48:41.431442Z"
    }
   },
   "outputs": [],
   "source": [
    "def make_all_examples():\n",
    "    examples = []\n",
    "    for cam in [2,3]:\n",
    "        tracks_path = os.path.join(processed_pose_path, 'tracks', f'cam{cam}_final.pkl')\n",
    "\n",
    "        accel_path = os.path.join(processed_accel_path, 'subj_accel_interp.pkl')\n",
    "        maker = Maker(tracks_path, accel_path, vad_path)\n",
    "        examples += maker.make_examples(cam=cam)\n",
    "    \n",
    "    return examples"
   ]
  },
  {
   "cell_type": "code",
   "execution_count": 7,
   "metadata": {
    "ExecuteTime": {
     "end_time": "2023-06-06T09:48:44.614127700Z",
     "start_time": "2023-06-06T09:48:44.606129500Z"
    }
   },
   "outputs": [],
   "source": [
    "def write_examples(examples):\n",
    "    out_path = os.path.join(processed_videos_path, 'examples')\n",
    "    reset_examples_ids(examples)\n",
    "    write_all_example_videos(examples, out_path)"
   ]
  },
  {
   "cell_type": "code",
   "execution_count": 8,
   "metadata": {
    "ExecuteTime": {
     "end_time": "2023-06-06T09:48:46.554745500Z",
     "start_time": "2023-06-06T09:48:46.495829100Z"
    }
   },
   "outputs": [
    {
     "ename": "FileNotFoundError",
     "evalue": "[Errno 2] No such file or directory: '/Users/josedvq/data/lared/release\\\\processed\\\\pose\\\\tracks\\\\cam2_final.pkl'",
     "output_type": "error",
     "traceback": [
      "\u001B[1;31m---------------------------------------------------------------------------\u001B[0m",
      "\u001B[1;31mFileNotFoundError\u001B[0m                         Traceback (most recent call last)",
      "Cell \u001B[1;32mIn[8], line 1\u001B[0m\n\u001B[1;32m----> 1\u001B[0m examples \u001B[38;5;241m=\u001B[39m \u001B[43mmake_all_examples\u001B[49m\u001B[43m(\u001B[49m\u001B[43m)\u001B[49m\n",
      "Cell \u001B[1;32mIn[6], line 7\u001B[0m, in \u001B[0;36mmake_all_examples\u001B[1;34m()\u001B[0m\n\u001B[0;32m      4\u001B[0m     tracks_path \u001B[38;5;241m=\u001B[39m os\u001B[38;5;241m.\u001B[39mpath\u001B[38;5;241m.\u001B[39mjoin(processed_pose_path, \u001B[38;5;124m'\u001B[39m\u001B[38;5;124mtracks\u001B[39m\u001B[38;5;124m'\u001B[39m, \u001B[38;5;124mf\u001B[39m\u001B[38;5;124m'\u001B[39m\u001B[38;5;124mcam\u001B[39m\u001B[38;5;132;01m{\u001B[39;00mcam\u001B[38;5;132;01m}\u001B[39;00m\u001B[38;5;124m_final.pkl\u001B[39m\u001B[38;5;124m'\u001B[39m)\n\u001B[0;32m      6\u001B[0m     accel_path \u001B[38;5;241m=\u001B[39m os\u001B[38;5;241m.\u001B[39mpath\u001B[38;5;241m.\u001B[39mjoin(processed_accel_path, \u001B[38;5;124m'\u001B[39m\u001B[38;5;124msubj_accel_interp.pkl\u001B[39m\u001B[38;5;124m'\u001B[39m)\n\u001B[1;32m----> 7\u001B[0m     maker \u001B[38;5;241m=\u001B[39m \u001B[43mMaker\u001B[49m\u001B[43m(\u001B[49m\u001B[43mtracks_path\u001B[49m\u001B[43m,\u001B[49m\u001B[43m \u001B[49m\u001B[43maccel_path\u001B[49m\u001B[43m,\u001B[49m\u001B[43m \u001B[49m\u001B[43mvad_path\u001B[49m\u001B[43m)\u001B[49m\n\u001B[0;32m      8\u001B[0m     examples \u001B[38;5;241m+\u001B[39m\u001B[38;5;241m=\u001B[39m maker\u001B[38;5;241m.\u001B[39mmake_examples(cam\u001B[38;5;241m=\u001B[39mcam)\n\u001B[0;32m     10\u001B[0m \u001B[38;5;28;01mreturn\u001B[39;00m examples\n",
      "File \u001B[1;32m~\\Desktop\\School\\Research Project\\Refactored model\\lared_dataset\\data_loading\\utils.py:76\u001B[0m, in \u001B[0;36mMaker.__init__\u001B[1;34m(self, tracks_path, accel_path, vad_path)\u001B[0m\n\u001B[0;32m     75\u001B[0m \u001B[38;5;28;01mdef\u001B[39;00m \u001B[38;5;21m__init__\u001B[39m(\u001B[38;5;28mself\u001B[39m, tracks_path\u001B[38;5;241m=\u001B[39m\u001B[38;5;28;01mNone\u001B[39;00m, accel_path\u001B[38;5;241m=\u001B[39m\u001B[38;5;28;01mNone\u001B[39;00m, vad_path\u001B[38;5;241m=\u001B[39m\u001B[38;5;28;01mNone\u001B[39;00m):\n\u001B[1;32m---> 76\u001B[0m     \u001B[38;5;28mself\u001B[39m\u001B[38;5;241m.\u001B[39mtracks \u001B[38;5;241m=\u001B[39m pickle\u001B[38;5;241m.\u001B[39mload(\u001B[38;5;28;43mopen\u001B[39;49m\u001B[43m(\u001B[49m\u001B[43mtracks_path\u001B[49m\u001B[43m,\u001B[49m\u001B[43m \u001B[49m\u001B[38;5;124;43m\"\u001B[39;49m\u001B[38;5;124;43mrb\u001B[39;49m\u001B[38;5;124;43m\"\u001B[39;49m\u001B[43m)\u001B[49m)\n\u001B[0;32m     78\u001B[0m     \u001B[38;5;28mself\u001B[39m\u001B[38;5;241m.\u001B[39maccel \u001B[38;5;241m=\u001B[39m {}\n\u001B[0;32m     79\u001B[0m     \u001B[38;5;28;01mif\u001B[39;00m accel_path \u001B[38;5;129;01mis\u001B[39;00m \u001B[38;5;129;01mnot\u001B[39;00m \u001B[38;5;28;01mNone\u001B[39;00m:\n",
      "\u001B[1;31mFileNotFoundError\u001B[0m: [Errno 2] No such file or directory: '/Users/josedvq/data/lared/release\\\\processed\\\\pose\\\\tracks\\\\cam2_final.pkl'"
     ]
    }
   ],
   "source": [
    "examples = make_all_examples()"
   ]
  },
  {
   "cell_type": "code",
   "execution_count": 9,
   "metadata": {
    "ExecuteTime": {
     "end_time": "2023-06-06T09:48:58.571374400Z",
     "start_time": "2023-06-06T09:48:58.555374400Z"
    }
   },
   "outputs": [
    {
     "ename": "NameError",
     "evalue": "name 'examples' is not defined",
     "output_type": "error",
     "traceback": [
      "\u001B[1;31m---------------------------------------------------------------------------\u001B[0m",
      "\u001B[1;31mNameError\u001B[0m                                 Traceback (most recent call last)",
      "Cell \u001B[1;32mIn[9], line 1\u001B[0m\n\u001B[1;32m----> 1\u001B[0m \u001B[38;5;28mlen\u001B[39m(\u001B[43mexamples\u001B[49m)\n",
      "\u001B[1;31mNameError\u001B[0m: name 'examples' is not defined"
     ]
    }
   ],
   "source": [
    "len(examples)"
   ]
  },
  {
   "cell_type": "code",
   "execution_count": 10,
   "metadata": {
    "ExecuteTime": {
     "end_time": "2023-06-06T09:49:02.298524300Z",
     "start_time": "2023-06-06T09:49:00.308464800Z"
    }
   },
   "outputs": [
    {
     "ename": "NameError",
     "evalue": "name 'examples' is not defined",
     "output_type": "error",
     "traceback": [
      "\u001B[1;31m---------------------------------------------------------------------------\u001B[0m",
      "\u001B[1;31mNameError\u001B[0m                                 Traceback (most recent call last)",
      "Cell \u001B[1;32mIn[10], line 2\u001B[0m\n\u001B[0;32m      1\u001B[0m plotter \u001B[38;5;241m=\u001B[39m PosePlotter()\n\u001B[1;32m----> 2\u001B[0m plotter\u001B[38;5;241m.\u001B[39mplot_first_frame(\u001B[43mexamples\u001B[49m[\u001B[38;5;241m200\u001B[39m])\n",
      "\u001B[1;31mNameError\u001B[0m: name 'examples' is not defined"
     ]
    }
   ],
   "source": [
    "plotter = PosePlotter()\n",
    "plotter.plot_first_frame(examples[200])"
   ]
  },
  {
   "cell_type": "code",
   "execution_count": 22,
   "metadata": {},
   "outputs": [
    {
     "name": "stderr",
     "output_type": "stream",
     "text": [
      "  0%|          | 86/23039 [00:05<26:02, 14.69it/s]"
     ]
    }
   ],
   "source": [
    "write_examples(examples)"
   ]
  },
  {
   "cell_type": "code",
   "execution_count": 7,
   "metadata": {},
   "outputs": [],
   "source": [
    "pickle.dump(examples, open(examples_path, 'wb'))"
   ]
  },
  {
   "cell_type": "code",
   "execution_count": null,
   "metadata": {},
   "outputs": [],
   "source": []
  },
  {
   "cell_type": "code",
   "execution_count": null,
   "metadata": {},
   "outputs": [],
   "source": []
  }
 ],
 "metadata": {
  "kernelspec": {
   "display_name": "Python 3.8.13 ('base')",
   "language": "python",
   "name": "python3"
  },
  "language_info": {
   "codemirror_mode": {
    "name": "ipython",
    "version": 3
   },
   "file_extension": ".py",
   "mimetype": "text/x-python",
   "name": "python",
   "nbconvert_exporter": "python",
   "pygments_lexer": "ipython3",
   "version": "3.8.13"
  },
  "orig_nbformat": 4,
  "vscode": {
   "interpreter": {
    "hash": "7ff63645dd16f55240e07095d3c46f4fac3f89ef16802cfaceca713f6cf38dfb"
   }
  }
 },
 "nbformat": 4,
 "nbformat_minor": 2
}
